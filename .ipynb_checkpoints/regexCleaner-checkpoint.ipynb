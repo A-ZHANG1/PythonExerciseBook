{
 "cells": [
  {
   "cell_type": "code",
   "execution_count": 162,
   "metadata": {},
   "outputs": [],
   "source": [
    "# -*- coding: UTF-8 -*-\n",
    "import pandas as pd\n",
    "import xlrd\n",
    "import numpy\n",
    "import re\n",
    "\n",
    "file = '编码20150228最终版(查).xlsx'\n",
    "df = pd.read_excel(file)\n",
    "spec = df['规格型号']"
   ]
  },
  {
   "cell_type": "code",
   "execution_count": 106,
   "metadata": {},
   "outputs": [
    {
     "data": {
      "text/html": [
       "<div>\n",
       "<style scoped>\n",
       "    .dataframe tbody tr th:only-of-type {\n",
       "        vertical-align: middle;\n",
       "    }\n",
       "\n",
       "    .dataframe tbody tr th {\n",
       "        vertical-align: top;\n",
       "    }\n",
       "\n",
       "    .dataframe thead th {\n",
       "        text-align: right;\n",
       "    }\n",
       "</style>\n",
       "<table border=\"1\" class=\"dataframe\">\n",
       "  <thead>\n",
       "    <tr style=\"text-align: right;\">\n",
       "      <th></th>\n",
       "      <th>属性名</th>\n",
       "      <th>Unnamed: 1</th>\n",
       "      <th>是核心业务属性</th>\n",
       "      <th>出现次数</th>\n",
       "      <th>规格型号</th>\n",
       "    </tr>\n",
       "  </thead>\n",
       "  <tbody>\n",
       "  </tbody>\n",
       "</table>\n",
       "</div>"
      ],
      "text/plain": [
       "Empty DataFrame\n",
       "Columns: [属性名, Unnamed: 1, 是核心业务属性, 出现次数, 规格型号]\n",
       "Index: []"
      ]
     },
     "execution_count": 106,
     "metadata": {},
     "output_type": "execute_result"
    }
   ],
   "source": [
    "blank = df[spec.str.isspace()]\n",
    "blank"
   ]
  },
  {
   "cell_type": "code",
   "execution_count": 163,
   "metadata": {},
   "outputs": [
    {
     "data": {
      "text/html": [
       "<div>\n",
       "<style scoped>\n",
       "    .dataframe tbody tr th:only-of-type {\n",
       "        vertical-align: middle;\n",
       "    }\n",
       "\n",
       "    .dataframe tbody tr th {\n",
       "        vertical-align: top;\n",
       "    }\n",
       "\n",
       "    .dataframe thead th {\n",
       "        text-align: right;\n",
       "    }\n",
       "</style>\n",
       "<table border=\"1\" class=\"dataframe\">\n",
       "  <thead>\n",
       "    <tr style=\"text-align: right;\">\n",
       "      <th></th>\n",
       "      <th>属性名</th>\n",
       "      <th>Unnamed: 1</th>\n",
       "      <th>是核心业务属性</th>\n",
       "      <th>出现次数</th>\n",
       "      <th>规格型号</th>\n",
       "    </tr>\n",
       "  </thead>\n",
       "  <tbody>\n",
       "    <tr>\n",
       "      <th>1</th>\n",
       "      <td>DPA抽样数</td>\n",
       "      <td>重要数据项</td>\n",
       "      <td>True</td>\n",
       "      <td>6</td>\n",
       "      <td>1221 12</td>\n",
       "    </tr>\n",
       "    <tr>\n",
       "      <th>11</th>\n",
       "      <td>不合格样品数</td>\n",
       "      <td>重要数据项</td>\n",
       "      <td>True</td>\n",
       "      <td>2</td>\n",
       "      <td>2007space</td>\n",
       "    </tr>\n",
       "  </tbody>\n",
       "</table>\n",
       "</div>"
      ],
      "text/plain": [
       "       属性名 Unnamed: 1  是核心业务属性  出现次数         规格型号\n",
       "1   DPA抽样数      重要数据项     True     6      1221 12\n",
       "11  不合格样品数      重要数据项     True     2  2007space  "
      ]
     },
     "execution_count": 163,
     "metadata": {},
     "output_type": "execute_result"
    }
   ],
   "source": [
    "space = df[spec.str.contains(' ')]\n",
    "space"
   ]
  },
  {
   "cell_type": "code",
   "execution_count": 186,
   "metadata": {},
   "outputs": [
    {
     "data": {
      "text/html": [
       "<div>\n",
       "<style scoped>\n",
       "    .dataframe tbody tr th:only-of-type {\n",
       "        vertical-align: middle;\n",
       "    }\n",
       "\n",
       "    .dataframe tbody tr th {\n",
       "        vertical-align: top;\n",
       "    }\n",
       "\n",
       "    .dataframe thead th {\n",
       "        text-align: right;\n",
       "    }\n",
       "</style>\n",
       "<table border=\"1\" class=\"dataframe\">\n",
       "  <thead>\n",
       "    <tr style=\"text-align: right;\">\n",
       "      <th></th>\n",
       "      <th>0</th>\n",
       "    </tr>\n",
       "  </thead>\n",
       "  <tbody>\n",
       "    <tr>\n",
       "      <th>11</th>\n",
       "      <td>2007space</td>\n",
       "    </tr>\n",
       "  </tbody>\n",
       "</table>\n",
       "</div>"
      ],
      "text/plain": [
       "            0\n",
       "11  2007space"
      ]
     },
     "execution_count": 186,
     "metadata": {},
     "output_type": "execute_result"
    }
   ],
   "source": [
    "rightSpace = df[spec.str.match(r'.*\\s$')]\n",
    "r = rightSpace['规格型号'].str.extract(r'([\\S]+)')\n",
    "r"
   ]
  },
  {
   "cell_type": "code",
   "execution_count": 72,
   "metadata": {},
   "outputs": [
    {
     "data": {
      "text/html": [
       "<div>\n",
       "<style scoped>\n",
       "    .dataframe tbody tr th:only-of-type {\n",
       "        vertical-align: middle;\n",
       "    }\n",
       "\n",
       "    .dataframe tbody tr th {\n",
       "        vertical-align: top;\n",
       "    }\n",
       "\n",
       "    .dataframe thead th {\n",
       "        text-align: right;\n",
       "    }\n",
       "</style>\n",
       "<table border=\"1\" class=\"dataframe\">\n",
       "  <thead>\n",
       "    <tr style=\"text-align: right;\">\n",
       "      <th></th>\n",
       "      <th>属性名</th>\n",
       "      <th>Unnamed: 1</th>\n",
       "      <th>是核心业务属性</th>\n",
       "      <th>出现次数</th>\n",
       "      <th>规格型号</th>\n",
       "    </tr>\n",
       "  </thead>\n",
       "  <tbody>\n",
       "    <tr>\n",
       "      <th>16</th>\n",
       "      <td>二筛费用</td>\n",
       "      <td>重要数据项</td>\n",
       "      <td>True</td>\n",
       "      <td>5</td>\n",
       "      <td>qweer</td>\n",
       "    </tr>\n",
       "  </tbody>\n",
       "</table>\n",
       "</div>"
      ],
      "text/plain": [
       "     属性名 Unnamed: 1  是核心业务属性  出现次数   规格型号\n",
       "16  二筛费用      重要数据项     True     5  qweer"
      ]
     },
     "execution_count": 72,
     "metadata": {},
     "output_type": "execute_result"
    }
   ],
   "source": [
    "lowerCaseRows = df[spec.str.islower()]\n",
    "lowerCaseRows"
   ]
  },
  {
   "cell_type": "code",
   "execution_count": 139,
   "metadata": {},
   "outputs": [
    {
     "data": {
      "text/html": [
       "<div>\n",
       "<style scoped>\n",
       "    .dataframe tbody tr th:only-of-type {\n",
       "        vertical-align: middle;\n",
       "    }\n",
       "\n",
       "    .dataframe tbody tr th {\n",
       "        vertical-align: top;\n",
       "    }\n",
       "\n",
       "    .dataframe thead th {\n",
       "        text-align: right;\n",
       "    }\n",
       "</style>\n",
       "<table border=\"1\" class=\"dataframe\">\n",
       "  <thead>\n",
       "    <tr style=\"text-align: right;\">\n",
       "      <th></th>\n",
       "      <th>属性名</th>\n",
       "      <th>Unnamed: 1</th>\n",
       "      <th>是核心业务属性</th>\n",
       "      <th>出现次数</th>\n",
       "      <th>规格型号</th>\n",
       "    </tr>\n",
       "  </thead>\n",
       "  <tbody>\n",
       "    <tr>\n",
       "      <th>5</th>\n",
       "      <td>DPA试验结论</td>\n",
       "      <td>重要数据项</td>\n",
       "      <td>True</td>\n",
       "      <td>1</td>\n",
       "      <td>2000kW</td>\n",
       "    </tr>\n",
       "    <tr>\n",
       "      <th>14</th>\n",
       "      <td>二筛收费大类</td>\n",
       "      <td>重要数据项</td>\n",
       "      <td>True</td>\n",
       "      <td>1</td>\n",
       "      <td>1N21n</td>\n",
       "    </tr>\n",
       "    <tr>\n",
       "      <th>16</th>\n",
       "      <td>二筛费用</td>\n",
       "      <td>重要数据项</td>\n",
       "      <td>True</td>\n",
       "      <td>5</td>\n",
       "      <td>qweer</td>\n",
       "    </tr>\n",
       "  </tbody>\n",
       "</table>\n",
       "</div>"
      ],
      "text/plain": [
       "        属性名 Unnamed: 1  是核心业务属性  出现次数    规格型号\n",
       "5   DPA试验结论      重要数据项     True     1  2000kW\n",
       "14   二筛收费大类      重要数据项     True     1   1N21n\n",
       "16     二筛费用      重要数据项     True     5   qweer"
      ]
     },
     "execution_count": 139,
     "metadata": {},
     "output_type": "execute_result"
    }
   ],
   "source": [
    "df[spec.str.match(r'.*[a-z].*')]"
   ]
  },
  {
   "cell_type": "code",
   "execution_count": 154,
   "metadata": {},
   "outputs": [
    {
     "data": {
      "text/html": [
       "<div>\n",
       "<style scoped>\n",
       "    .dataframe tbody tr th:only-of-type {\n",
       "        vertical-align: middle;\n",
       "    }\n",
       "\n",
       "    .dataframe tbody tr th {\n",
       "        vertical-align: top;\n",
       "    }\n",
       "\n",
       "    .dataframe thead th {\n",
       "        text-align: right;\n",
       "    }\n",
       "</style>\n",
       "<table border=\"1\" class=\"dataframe\">\n",
       "  <thead>\n",
       "    <tr style=\"text-align: right;\">\n",
       "      <th></th>\n",
       "      <th>属性名</th>\n",
       "      <th>Unnamed: 1</th>\n",
       "      <th>是核心业务属性</th>\n",
       "      <th>出现次数</th>\n",
       "      <th>规格型号</th>\n",
       "    </tr>\n",
       "  </thead>\n",
       "  <tbody>\n",
       "    <tr>\n",
       "      <th>2</th>\n",
       "      <td>DPA状态</td>\n",
       "      <td>重要数据项</td>\n",
       "      <td>True</td>\n",
       "      <td>3</td>\n",
       "      <td>１２２１－１２</td>\n",
       "    </tr>\n",
       "  </tbody>\n",
       "</table>\n",
       "</div>"
      ],
      "text/plain": [
       "     属性名 Unnamed: 1  是核心业务属性  出现次数     规格型号\n",
       "2  DPA状态      重要数据项     True     3  １２２１－１２"
      ]
     },
     "execution_count": 154,
     "metadata": {},
     "output_type": "execute_result"
    }
   ],
   "source": [
    "df[spec.str.match(r'[^0-9a-zA-Z]*$')]"
   ]
  },
  {
   "cell_type": "code",
   "execution_count": 141,
   "metadata": {},
   "outputs": [
    {
     "data": {
      "text/html": [
       "<div>\n",
       "<style scoped>\n",
       "    .dataframe tbody tr th:only-of-type {\n",
       "        vertical-align: middle;\n",
       "    }\n",
       "\n",
       "    .dataframe tbody tr th {\n",
       "        vertical-align: top;\n",
       "    }\n",
       "\n",
       "    .dataframe thead th {\n",
       "        text-align: right;\n",
       "    }\n",
       "</style>\n",
       "<table border=\"1\" class=\"dataframe\">\n",
       "  <thead>\n",
       "    <tr style=\"text-align: right;\">\n",
       "      <th></th>\n",
       "      <th>属性名</th>\n",
       "      <th>Unnamed: 1</th>\n",
       "      <th>是核心业务属性</th>\n",
       "      <th>出现次数</th>\n",
       "      <th>规格型号</th>\n",
       "    </tr>\n",
       "  </thead>\n",
       "  <tbody>\n",
       "    <tr>\n",
       "      <th>4</th>\n",
       "      <td>DPA试验</td>\n",
       "      <td>重要数据项</td>\n",
       "      <td>True</td>\n",
       "      <td>1</td>\n",
       "      <td>2000W</td>\n",
       "    </tr>\n",
       "  </tbody>\n",
       "</table>\n",
       "</div>"
      ],
      "text/plain": [
       "     属性名 Unnamed: 1  是核心业务属性  出现次数   规格型号\n",
       "4  DPA试验      重要数据项     True     1  2000W"
      ]
     },
     "execution_count": 141,
     "metadata": {},
     "output_type": "execute_result"
    }
   ],
   "source": [
    "df[spec.str.match(r'.*[0]{3}[W]')]"
   ]
  },
  {
   "cell_type": "code",
   "execution_count": 148,
   "metadata": {},
   "outputs": [
    {
     "data": {
      "text/html": [
       "<div>\n",
       "<style scoped>\n",
       "    .dataframe tbody tr th:only-of-type {\n",
       "        vertical-align: middle;\n",
       "    }\n",
       "\n",
       "    .dataframe tbody tr th {\n",
       "        vertical-align: top;\n",
       "    }\n",
       "\n",
       "    .dataframe thead th {\n",
       "        text-align: right;\n",
       "    }\n",
       "</style>\n",
       "<table border=\"1\" class=\"dataframe\">\n",
       "  <thead>\n",
       "    <tr style=\"text-align: right;\">\n",
       "      <th></th>\n",
       "      <th>属性名</th>\n",
       "      <th>Unnamed: 1</th>\n",
       "      <th>是核心业务属性</th>\n",
       "      <th>出现次数</th>\n",
       "      <th>规格型号</th>\n",
       "    </tr>\n",
       "  </thead>\n",
       "  <tbody>\n",
       "    <tr>\n",
       "      <th>14</th>\n",
       "      <td>二筛收费大类</td>\n",
       "      <td>重要数据项</td>\n",
       "      <td>True</td>\n",
       "      <td>1</td>\n",
       "      <td>1N21n</td>\n",
       "    </tr>\n",
       "    <tr>\n",
       "      <th>16</th>\n",
       "      <td>二筛费用</td>\n",
       "      <td>重要数据项</td>\n",
       "      <td>True</td>\n",
       "      <td>5</td>\n",
       "      <td>qweer</td>\n",
       "    </tr>\n",
       "  </tbody>\n",
       "</table>\n",
       "</div>"
      ],
      "text/plain": [
       "       属性名 Unnamed: 1  是核心业务属性  出现次数   规格型号\n",
       "14  二筛收费大类      重要数据项     True     1  1N21n\n",
       "16    二筛费用      重要数据项     True     5  qweer"
      ]
     },
     "execution_count": 148,
     "metadata": {},
     "output_type": "execute_result"
    }
   ],
   "source": [
    "lower = df[spec.str.match(r'.*[a-z].*')]\n",
    "lower[~lower['规格型号'].str.contains('kW')]"
   ]
  },
  {
   "cell_type": "code",
   "execution_count": 120,
   "metadata": {},
   "outputs": [
    {
     "data": {
      "text/plain": [
       "<re.Match object; span=(0, 4), match='2000'>"
      ]
     },
     "execution_count": 120,
     "metadata": {},
     "output_type": "execute_result"
    }
   ],
   "source": [
    "my_string = \"2000kW\"\n",
    "m = re.match(r'([0-9]*)|(.*[a-z])', my_string)\n",
    "m"
   ]
  },
  {
   "cell_type": "code",
   "execution_count": 161,
   "metadata": {},
   "outputs": [
    {
     "data": {
      "text/html": [
       "<div>\n",
       "<style scoped>\n",
       "    .dataframe tbody tr th:only-of-type {\n",
       "        vertical-align: middle;\n",
       "    }\n",
       "\n",
       "    .dataframe tbody tr th {\n",
       "        vertical-align: top;\n",
       "    }\n",
       "\n",
       "    .dataframe thead th {\n",
       "        text-align: right;\n",
       "    }\n",
       "</style>\n",
       "<table border=\"1\" class=\"dataframe\">\n",
       "  <thead>\n",
       "    <tr style=\"text-align: right;\">\n",
       "      <th></th>\n",
       "      <th>属性名</th>\n",
       "      <th>Unnamed: 1</th>\n",
       "      <th>是核心业务属性</th>\n",
       "      <th>出现次数</th>\n",
       "      <th>规格型号</th>\n",
       "    </tr>\n",
       "  </thead>\n",
       "  <tbody>\n",
       "    <tr>\n",
       "      <th>2</th>\n",
       "      <td>DPA状态</td>\n",
       "      <td>重要数据项</td>\n",
       "      <td>True</td>\n",
       "      <td>3</td>\n",
       "      <td>１２２１－１２</td>\n",
       "    </tr>\n",
       "    <tr>\n",
       "      <th>3</th>\n",
       "      <td>DPA结论</td>\n",
       "      <td>重要数据项</td>\n",
       "      <td>True</td>\n",
       "      <td>5</td>\n",
       "      <td>1221_12</td>\n",
       "    </tr>\n",
       "    <tr>\n",
       "      <th>12</th>\n",
       "      <td>主检人</td>\n",
       "      <td>重要数据项</td>\n",
       "      <td>True</td>\n",
       "      <td>1</td>\n",
       "      <td>1221_12</td>\n",
       "    </tr>\n",
       "    <tr>\n",
       "      <th>13</th>\n",
       "      <td>二筛分析人</td>\n",
       "      <td>重要数据项</td>\n",
       "      <td>True</td>\n",
       "      <td>1</td>\n",
       "      <td>1221－12</td>\n",
       "    </tr>\n",
       "  </tbody>\n",
       "</table>\n",
       "</div>"
      ],
      "text/plain": [
       "      属性名 Unnamed: 1  是核心业务属性  出现次数     规格型号\n",
       "2   DPA状态      重要数据项     True     3  １２２１－１２\n",
       "3   DPA结论      重要数据项     True     5  1221_12\n",
       "12    主检人      重要数据项     True     1  1221_12\n",
       "13  二筛分析人      重要数据项     True     1  1221－12"
      ]
     },
     "execution_count": 161,
     "metadata": {},
     "output_type": "execute_result"
    }
   ],
   "source": [
    "df[spec.str.match(r'(.*[_].*)|(.*[－].*)')]"
   ]
  },
  {
   "cell_type": "code",
   "execution_count": null,
   "metadata": {},
   "outputs": [],
   "source": [
    "df.to_excel('excel_output.xls')"
   ]
  }
 ],
 "metadata": {
  "kernelspec": {
   "display_name": "Python 3",
   "language": "python",
   "name": "python3"
  },
  "language_info": {
   "codemirror_mode": {
    "name": "ipython",
    "version": 3
   },
   "file_extension": ".py",
   "mimetype": "text/x-python",
   "name": "python",
   "nbconvert_exporter": "python",
   "pygments_lexer": "ipython3",
   "version": "3.7.3"
  }
 },
 "nbformat": 4,
 "nbformat_minor": 2
}
